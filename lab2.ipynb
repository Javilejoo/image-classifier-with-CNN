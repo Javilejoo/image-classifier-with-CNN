{
 "cells": [
  {
   "cell_type": "markdown",
   "id": "1aa7ad2e",
   "metadata": {},
   "source": [
    "# Laboratorio 4\n",
    "En este laboratorio se va a comparar el uso de CNN con ANN."
   ]
  },
  {
   "cell_type": "code",
   "execution_count": null,
   "id": "7cacdfbb",
   "metadata": {},
   "outputs": [],
   "source": [
    "#!pip install -r requirements.txt"
   ]
  },
  {
   "cell_type": "code",
   "execution_count": 11,
   "id": "af46c925",
   "metadata": {},
   "outputs": [],
   "source": [
    "import numpy as np\n",
    "import tensorflow as ts\n",
    "import pandas as pd\n",
    "import seaborn as sns\n",
    "import matplotlib.pyplot as plt"
   ]
  },
  {
   "cell_type": "markdown",
   "id": "8844e6bf",
   "metadata": {},
   "source": [
    "## Parte 1: Preparación del conjunto de datos"
   ]
  },
  {
   "cell_type": "code",
   "execution_count": 2,
   "id": "30be2df8",
   "metadata": {},
   "outputs": [
    {
     "name": "stdout",
     "output_type": "stream",
     "text": [
      "Downloading data from https://www.cs.toronto.edu/~kriz/cifar-10-python.tar.gz\n",
      "\u001b[1m170498071/170498071\u001b[0m \u001b[32m━━━━━━━━━━━━━━━━━━━━\u001b[0m\u001b[37m\u001b[0m \u001b[1m5s\u001b[0m 0us/step\n"
     ]
    }
   ],
   "source": [
    "from keras.datasets import cifar10\n",
    "\n",
    "(x_train, y_train), (x_test, y_test) = cifar10.load_data()"
   ]
  },
  {
   "cell_type": "code",
   "execution_count": 6,
   "id": "87e33491",
   "metadata": {},
   "outputs": [
    {
     "name": "stdout",
     "output_type": "stream",
     "text": [
      "<class 'numpy.ndarray'> <class 'numpy.ndarray'> <class 'numpy.ndarray'> <class 'numpy.ndarray'>\n"
     ]
    }
   ],
   "source": [
    "print(type(x_train), type(y_train), type(x_test), type(y_test))"
   ]
  },
  {
   "cell_type": "code",
   "execution_count": 5,
   "id": "17736ffa",
   "metadata": {},
   "outputs": [
    {
     "name": "stdout",
     "output_type": "stream",
     "text": [
      "(50000, 32, 32, 3)\n",
      "(50000, 1)\n",
      "(10000, 32, 32, 3)\n",
      "(10000, 1)\n"
     ]
    }
   ],
   "source": [
    "print(x_train.shape)\n",
    "print(y_train.shape)\n",
    "print(x_test.shape)\n",
    "print(y_test.shape)"
   ]
  },
  {
   "cell_type": "code",
   "execution_count": null,
   "id": "8031fedb",
   "metadata": {},
   "outputs": [],
   "source": [
    "def normalize_arrs(arr: np.ndarray) -> np.ndarray:\n",
    "    return arr.astype(\"float32\") / 255.0 \n"
   ]
  },
  {
   "cell_type": "code",
   "execution_count": null,
   "id": "c2374df3",
   "metadata": {},
   "outputs": [],
   "source": [
    "# normalize between values of 0 and 1\n",
    "x_train = normalize_arrs(x_train)\n",
    "x_test = normalize_arrs(x_test)\n"
   ]
  },
  {
   "cell_type": "code",
   "execution_count": 12,
   "id": "e72ecbd8",
   "metadata": {},
   "outputs": [
    {
     "data": {
      "image/png": "[encoded data removed]",
      "text/plain": [
       "<Figure size 640x480 with 1 Axes>"
      ]
     },
     "metadata": {},
     "output_type": "display_data"
    }
   ],
   "source": [
    "class_names:list[str] = [\n",
    "    \"airplane\", \"automobile\", \"bird\", \"cat\", \"deer\",\n",
    "    \"dog\", \"frog\", \"horse\", \"ship\", \"truck\"\n",
    "]\n",
    "\n",
    "plt.imshow(x_train[0])  # images are still in shape (32, 32, 3)\n",
    "plt.title(class_names[y_train[0][0]])  # y_train has shape (50000, 1)\n",
    "plt.axis(\"off\")\n",
    "plt.show()"
   ]
  },
  {
   "cell_type": "markdown",
   "id": "3248c48e",
   "metadata": {},
   "source": [
    "## Modelo Base ANN "
   ]
  },
  {
   "cell_type": "code",
   "execution_count": 16,
   "id": "6d6387db",
   "metadata": {},
   "outputs": [
    {
     "name": "stderr",
     "output_type": "stream",
     "text": [
      "c:\\Users\\lpmon\\Documents\\GitHub\\image-classifier-with-CNN\\venv\\Lib\\site-packages\\keras\\src\\layers\\reshaping\\flatten.py:37: UserWarning: Do not pass an `input_shape`/`input_dim` argument to a layer. When using Sequential models, prefer using an `Input(shape)` object as the first layer in the model instead.\n",
      "  super().__init__(**kwargs)\n"
     ]
    }
   ],
   "source": [
    "model = ts.keras.Sequential([\n",
    "    ts.keras.layers.Flatten(input_shape=(32,32,3)),\n",
    "    ts.keras.layers.Dense(512, activation='relu'),\n",
    "    ts.keras.layers.Dropout(0.3),\n",
    "    ts.keras.layers.Dense(256, activation='relu'),\n",
    "    ts.keras.layers.Dropout(0.3),\n",
    "    ts.keras.layers.Dense(10, activation='softmax')\n",
    "])"
   ]
  },
  {
   "cell_type": "code",
   "execution_count": 17,
   "id": "524f587d",
   "metadata": {},
   "outputs": [],
   "source": [
    "model.compile( optimizer=ts.keras.optimizers.Adam(learning_rate=1e-3), loss='sparse_categorical_crossentropy', metrics=['accuracy'])"
   ]
  },
  {
   "cell_type": "code",
   "execution_count": 18,
   "id": "ce7d7ab4",
   "metadata": {},
   "outputs": [
    {
     "name": "stdout",
     "output_type": "stream",
     "text": [
      "Epoch 1/15\n",
      "352/352 - 3s - 9ms/step - accuracy: 0.2479 - loss: 2.0444 - val_accuracy: 0.3292 - val_loss: 1.8630\n",
      "Epoch 2/15\n",
      "352/352 - 2s - 7ms/step - accuracy: 0.3027 - loss: 1.9005 - val_accuracy: 0.3602 - val_loss: 1.8044\n",
      "Epoch 3/15\n",
      "352/352 - 2s - 6ms/step - accuracy: 0.3266 - loss: 1.8485 - val_accuracy: 0.3560 - val_loss: 1.7957\n",
      "Epoch 4/15\n",
      "352/352 - 2s - 5ms/step - accuracy: 0.3335 - loss: 1.8261 - val_accuracy: 0.3740 - val_loss: 1.7617\n",
      "Epoch 5/15\n",
      "352/352 - 2s - 5ms/step - accuracy: 0.3498 - loss: 1.7830 - val_accuracy: 0.3830 - val_loss: 1.7274\n",
      "Epoch 6/15\n",
      "352/352 - 2s - 6ms/step - accuracy: 0.3538 - loss: 1.7709 - val_accuracy: 0.3932 - val_loss: 1.7109\n",
      "Epoch 7/15\n",
      "352/352 - 2s - 6ms/step - accuracy: 0.3596 - loss: 1.7525 - val_accuracy: 0.3978 - val_loss: 1.6946\n",
      "Epoch 8/15\n",
      "352/352 - 3s - 7ms/step - accuracy: 0.3656 - loss: 1.7387 - val_accuracy: 0.3928 - val_loss: 1.7029\n",
      "Epoch 9/15\n",
      "352/352 - 3s - 9ms/step - accuracy: 0.3730 - loss: 1.7291 - val_accuracy: 0.4228 - val_loss: 1.6623\n",
      "Epoch 10/15\n",
      "352/352 - 3s - 9ms/step - accuracy: 0.3800 - loss: 1.7159 - val_accuracy: 0.3982 - val_loss: 1.6992\n",
      "Epoch 11/15\n",
      "352/352 - 5s - 15ms/step - accuracy: 0.3818 - loss: 1.7066 - val_accuracy: 0.4234 - val_loss: 1.6520\n",
      "Epoch 12/15\n",
      "352/352 - 5s - 14ms/step - accuracy: 0.3837 - loss: 1.6966 - val_accuracy: 0.4112 - val_loss: 1.6585\n",
      "Epoch 13/15\n",
      "352/352 - 3s - 8ms/step - accuracy: 0.3856 - loss: 1.6999 - val_accuracy: 0.4224 - val_loss: 1.6430\n",
      "Epoch 14/15\n",
      "352/352 - 5s - 15ms/step - accuracy: 0.3886 - loss: 1.6831 - val_accuracy: 0.4186 - val_loss: 1.6608\n",
      "Epoch 15/15\n",
      "352/352 - 5s - 15ms/step - accuracy: 0.3942 - loss: 1.6774 - val_accuracy: 0.4188 - val_loss: 1.6352\n"
     ]
    }
   ],
   "source": [
    "history = model.fit(\n",
    "    x_train, y_train,\n",
    "    epochs=15,\n",
    "    batch_size=128,\n",
    "    validation_split=0.1,\n",
    "    verbose=2\n",
    ")"
   ]
  },
  {
   "cell_type": "code",
   "execution_count": 19,
   "id": "708fe5e0",
   "metadata": {},
   "outputs": [
    {
     "name": "stdout",
     "output_type": "stream",
     "text": [
      "Test accuracy: 0.424\n"
     ]
    }
   ],
   "source": [
    "test_loss, test_acc = model.evaluate(x_test, y_test, verbose=0)\n",
    "print(f\"Test accuracy: {test_acc:.3f}\")"
   ]
  },
  {
   "cell_type": "markdown",
   "id": "f32d0298",
   "metadata": {},
   "source": [
    "Para este simple test podemos observar que el rendimiento de la ANN es bastante pobre a la hora de clasificar imágenes."
   ]
  },
  {
   "cell_type": "markdown",
   "id": "a73f1bde",
   "metadata": {},
   "source": [
    "## Implementación de CNN"
   ]
  },
  {
   "cell_type": "markdown",
   "id": "f43e0e6a",
   "metadata": {},
   "source": []
  }
 ],
 "metadata": {
  "kernelspec": {
   "display_name": "venv",
   "language": "python",
   "name": "python3"
  },
  "language_info": {
   "codemirror_mode": {
    "name": "ipython",
    "version": 3
   },
   "file_extension": ".py",
   "mimetype": "text/x-python",
   "name": "python",
   "nbconvert_exporter": "python",
   "pygments_lexer": "ipython3",
   "version": "3.12.4"
  }
 },
 "nbformat": 4,
 "nbformat_minor": 5
}
